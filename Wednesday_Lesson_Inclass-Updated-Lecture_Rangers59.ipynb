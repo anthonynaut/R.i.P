{
 "cells": [
  {
   "cell_type": "markdown",
   "metadata": {},
   "source": [
    "# Data Collections 2 (Dictionaries, Sets) and Importing Modules"
   ]
  },
  {
   "cell_type": "markdown",
   "metadata": {},
   "source": [
    "## Tasks Today:\n",
    "\n",
    "1) Dictionary <br>\n",
    " &nbsp;&nbsp;&nbsp;&nbsp; a) Declaring (key, value) <br>\n",
    " &nbsp;&nbsp;&nbsp;&nbsp; b) Accessing Values <br>\n",
    " &nbsp;&nbsp;&nbsp;&nbsp; ------ Exercise #1 - Print the eye color of each person in a double nested dict <br>\n",
    " &nbsp;&nbsp;&nbsp;&nbsp; c) Adding New Pairs <br>\n",
    " &nbsp;&nbsp;&nbsp;&nbsp; d) Modifying Values <br>\n",
    " &nbsp;&nbsp;&nbsp;&nbsp; e) Removing Key, Value Pairs <br>\n",
    " &nbsp;&nbsp;&nbsp;&nbsp; f) Looping a Dictionary <br>\n",
    " &nbsp;&nbsp;&nbsp;&nbsp; g) Looping Only Keys <br>\n",
    " &nbsp;&nbsp;&nbsp;&nbsp; h) Looping Only Values <br>\n",
    " &nbsp;&nbsp;&nbsp;&nbsp; ------ Exercise #2 - Create a Function that Prints All Key Value Pairs within a print .format()  <br>\n",
    " &nbsp;&nbsp;&nbsp;&nbsp; i) sorted() <br>\n",
    " &nbsp;&nbsp;&nbsp;&nbsp; j) Lists with Dictionaries <br>\n",
    " &nbsp;&nbsp;&nbsp;&nbsp; k) Dictionaries with Lists <br>\n",
    " &nbsp;&nbsp;&nbsp;&nbsp; l) Dictionaries with Dictionaries <br>\n",
    " &nbsp;&nbsp;&nbsp;&nbsp; ------ Exercise #3 - Write a Function that asks someone's name and address, and then stores that into a dictionary, which prints all names and addresses after they're done putting information in...  <br>\n",
    "2) Dictionaries vs. Lists (over time)<br>\n",
    "3) Set <br>\n",
    " &nbsp;&nbsp;&nbsp;&nbsp; a) Declaring <br>\n",
    " &nbsp;&nbsp;&nbsp;&nbsp; b) .add() <br>\n",
    " &nbsp;&nbsp;&nbsp;&nbsp; c) .remove() <br>\n",
    " &nbsp;&nbsp;&nbsp;&nbsp; d) .union() <br>\n",
    " &nbsp;&nbsp;&nbsp;&nbsp; e) .intersection() <br>\n",
    " &nbsp;&nbsp;&nbsp;&nbsp; f) .difference() <br>\n",
    " &nbsp;&nbsp;&nbsp;&nbsp; g) Frozen Set <br>\n",
    "4) Modules <br>\n",
    " &nbsp;&nbsp;&nbsp;&nbsp; a) Importing Entire Modules <br>\n",
    " &nbsp;&nbsp;&nbsp;&nbsp; b) Importing Methods Only <br>\n",
    " &nbsp;&nbsp;&nbsp;&nbsp; c) Using the 'as' Keyword <br>\n",
    " &nbsp;&nbsp;&nbsp;&nbsp; d) Creating a Module <br>\n",
    "5) Exercises <br>\n",
    " &nbsp;&nbsp;&nbsp;&nbsp; a) Build a Shopping Cart <br>\n",
    " &nbsp;&nbsp;&nbsp;&nbsp; b) Create Your Own Module <br>"
   ]
  },
  {
   "cell_type": "markdown",
   "metadata": {},
   "source": [
    "## Dictionary <br>\n",
    "<p>A collection of data with 'key:value' pairs. Dictionaries are ordered as of Python 3.6</p>"
   ]
  },
  {
   "cell_type": "markdown",
   "metadata": {},
   "source": [
    "##### Declaring (key, value)"
   ]
  },
  {
   "cell_type": "code",
   "execution_count": 3,
   "metadata": {},
   "outputs": [],
   "source": [
    "# keys should always be unique\n",
    "# can use numbers or strings as keys\n",
    "\n",
    "d_1 = {}\n",
    "\n",
    "# or\n",
    "\n",
    "d_2 = dict()\n",
    "\n",
    "# or \n",
    "\n",
    "d_3 = {\n",
    "    'dave': '225 Main Street',\n",
    "    'Anthony': '410 Ave',\n",
    "    0: 'This is a value for the key of 0'\n",
    "}"
   ]
  },
  {
   "cell_type": "markdown",
   "metadata": {},
   "source": [
    "##### Accessing Values"
   ]
  },
  {
   "cell_type": "code",
   "execution_count": 4,
   "metadata": {},
   "outputs": [
    {
     "data": {
      "text/plain": [
       "'410 Ave'"
      ]
     },
     "execution_count": 4,
     "metadata": {},
     "output_type": "execute_result"
    }
   ],
   "source": [
    "# dict[key]\n",
    "\n",
    "d_3['Anthony']\n",
    "\n"
   ]
  },
  {
   "cell_type": "markdown",
   "metadata": {},
   "source": [
    "## In-Class Exercise #1 - Print a formatted statement from the dictionary below <br>\n",
    "<p>The output should be '2018 Chevrolet Silverado'</p>"
   ]
  },
  {
   "cell_type": "code",
   "execution_count": 9,
   "metadata": {},
   "outputs": [
    {
     "name": "stdout",
     "output_type": "stream",
     "text": [
      "2018,Chevrolet, Silverado\n"
     ]
    }
   ],
   "source": [
    "# use the dict below\n",
    "truck = {\n",
    "    'year': 2018,\n",
    "    'make': 'Chevrolet',\n",
    "    'model': 'Silverado'\n",
    "}\n",
    "#mine\n",
    "\n",
    "#formated_statement = \"{} {} {}\".format(year,make,model)\n",
    "#print(formated_statement)\n",
    "\n",
    "\n",
    "#alexs\n",
    "\n",
    "#print(truck['year'],truck['make'], truck['model'])\n",
    "\n",
    "\n",
    "\n",
    "#ronys\n",
    "print(f\"{truck['year']},{truck['make']}, {truck['model']}\")"
   ]
  },
  {
   "cell_type": "markdown",
   "metadata": {},
   "source": [
    "##### Adding New Pairs"
   ]
  },
  {
   "cell_type": "code",
   "execution_count": 10,
   "metadata": {},
   "outputs": [
    {
     "data": {
      "text/plain": [
       "{'dave': '225 Main Street',\n",
       " 'Anthony': '410 Ave',\n",
       " 0: 'This is a value for the key of 0',\n",
       " 'bob': '151 Main street'}"
      ]
     },
     "execution_count": 10,
     "metadata": {},
     "output_type": "execute_result"
    }
   ],
   "source": [
    "# dict[key] = value\n",
    "\n",
    "d_3['bob'] = '151 Main street'\n",
    "\n",
    "d_3"
   ]
  },
  {
   "cell_type": "markdown",
   "metadata": {},
   "source": [
    "##### Modifying Values"
   ]
  },
  {
   "cell_type": "code",
   "execution_count": 708,
   "metadata": {},
   "outputs": [
    {
     "data": {
      "text/plain": [
       "{'dave': '225 Main Street',\n",
       " 'Anthony': '410 Ave',\n",
       " 0: 'This is a value for the key of 0',\n",
       " 'bob': '151 Main street Chicago, IL Chicago, IL Chicago IL Chicago, IL Chicago IL Chicago, IL Chicago IL Chicago, IL Chicago IL Chicago, IL Chicago IL Chicago, IL Chicago IL Chicago, IL Chicago IL Chicago, IL Chicago IL Chicago, IL Chicago IL Chicago, IL Chicago IL Chicago, IL Chicago IL Chicago, IL Chicago IL Chicago, IL Chicago IL Chicago, IL Chicago IL Chicago, IL Chicago IL Chicago, IL Chicago IL Chicago, IL Chicago IL Chicago, IL Chicago IL Chicago, IL Chicago IL Chicago, IL Chicago IL Chicago, IL Chicago IL Chicago, IL Chicago IL Chicago, IL Chicago IL Chicago, IL Chicago IL Chicago, IL Chicago IL Chicago, IL Chicago IL Chicago, IL Chicago IL Chicago, IL Chicago IL Chicago, IL Chicago IL Chicago, IL Chicago IL Chicago, IL Chicago IL Chicago, IL Chicago IL Chicago, IL Chicago IL Chicago, IL Chicago IL Chicago, IL Chicago IL Chicago, IL Chicago IL Chicago, IL Chicago IL Chicago, IL Chicago IL Chicago, IL Chicago IL Chicago, IL Chicago IL Chicago, IL Chicago IL Chicago, IL Chicago IL Chicago, IL Chicago IL Chicago, IL Chicago IL Chicago, IL Chicago IL Chicago, IL Chicago IL Chicago, IL Chicago IL Chicago, IL Chicago IL Chicago, IL Chicago IL Chicago, IL Chicago IL Chicago, IL Chicago IL Chicago, IL Chicago IL Chicago, IL Chicago IL Chicago, IL Chicago IL Chicago, IL Chicago IL Chicago, IL Chicago IL Chicago, IL Chicago IL Chicago, IL Chicago IL Chicago, IL Chicago IL Chicago, IL Chicago IL Chicago, IL Chicago IL Chicago, IL Chicago IL Chicago, IL Chicago IL Chicago, IL Chicago IL Chicago, IL Chicago IL Chicago, IL Chicago IL Chicago, IL Chicago IL Chicago, IL Chicago IL Chicago, IL Chicago IL Chicago, IL Chicago IL Chicago, IL Chicago IL Chicago, IL Chicago IL Chicago, IL Chicago IL Chicago, IL Chicago IL Chicago, IL Chicago IL Chicago, IL Chicago IL Chicago, IL Chicago IL Chicago, IL Chicago IL Chicago, IL Chicago IL Chicago, IL Chicago IL Chicago, IL Chicago IL Chicago, IL Chicago IL Chicago, IL Chicago IL Chicago, IL Chicago IL Chicago, IL Chicago IL Chicago, IL Chicago IL Chicago, IL Chicago IL Chicago, IL Chicago IL Chicago, IL Chicago IL Chicago, IL Chicago IL Chicago, IL Chicago IL Chicago, IL Chicago IL Chicago, IL Chicago IL Chicago, IL Chicago IL Chicago, IL Chicago IL Chicago, IL Chicago IL Chicago, IL Chicago IL Chicago, IL Chicago IL Chicago, IL Chicago IL Chicago, IL Chicago IL Chicago, IL Chicago IL Chicago, IL Chicago IL Chicago, IL Chicago IL Chicago, IL Chicago IL Chicago, IL Chicago IL Chicago, IL Chicago IL Chicago, IL Chicago IL Chicago, IL Chicago IL Chicago, IL Chicago IL Chicago, IL Chicago IL Chicago, IL Chicago IL Chicago, IL Chicago IL Chicago, IL Chicago IL Chicago, IL Chicago IL Chicago, IL Chicago IL Chicago, IL Chicago IL Chicago, IL Chicago IL Chicago, IL Chicago IL Chicago, IL Chicago IL Chicago, IL Chicago IL Chicago, IL Chicago IL Chicago, IL Chicago IL Chicago, IL Chicago IL Chicago, IL Chicago IL Chicago, IL Chicago IL Chicago, IL Chicago IL Chicago, IL Chicago IL Chicago, IL Chicago IL Chicago, IL Chicago IL Chicago, IL Chicago IL Chicago, IL Chicago IL Chicago, IL Chicago IL Chicago, IL Chicago IL Chicago, IL Chicago IL Chicago, IL Chicago IL Chicago, IL Chicago IL Chicago, IL Chicago IL Chicago, IL Chicago IL Chicago, IL Chicago IL Chicago, IL Chicago IL Chicago, IL Chicago IL Chicago, IL Chicago IL Chicago, IL Chicago IL Chicago, IL Chicago IL Chicago, IL Chicago IL Chicago, IL Chicago IL Chicago, IL Chicago IL Chicago, IL Chicago IL Chicago, IL Chicago IL Chicago, IL Chicago IL Chicago, IL Chicago IL Chicago, IL Chicago IL Chicago, IL Chicago IL Chicago, IL Chicago IL Chicago, IL Chicago IL Chicago, IL Chicago IL Chicago, IL Chicago IL Chicago, IL Chicago IL Chicago, IL Chicago IL Chicago, IL Chicago IL Chicago, IL Chicago IL Chicago, IL Chicago IL Chicago, IL Chicago IL Chicago, IL Chicago IL Chicago, IL Chicago IL Chicago, IL Chicago IL Chicago, IL Chicago IL Chicago, IL Chicago IL Chicago, IL Chicago IL Chicago, IL Chicago IL Chicago, IL Chicago IL Chicago, IL Chicago IL Chicago, IL Chicago IL Chicago, IL Chicago IL Chicago, IL Chicago IL Chicago, IL Chicago IL Chicago, IL Chicago IL Chicago, IL Chicago IL Chicago, IL Chicago IL Chicago, IL Chicago IL Chicago, IL Chicago IL Chicago, IL Chicago IL Chicago, IL Chicago IL Chicago, IL Chicago IL Chicago, IL Chicago IL Chicago, IL Chicago IL Chicago, IL Chicago IL Chicago, IL Chicago IL Chicago, IL Chicago IL Chicago, IL Chicago IL Chicago, IL Chicago IL Chicago, IL Chicago IL Chicago, IL Chicago IL Chicago, IL Chicago IL Chicago, IL Chicago IL Chicago, IL Chicago IL Chicago, IL Chicago IL Chicago, IL Chicago IL Chicago, IL Chicago IL Chicago, IL Chicago IL Chicago, IL Chicago IL Chicago, IL Chicago IL Chicago, IL Chicago IL Chicago, IL Chicago IL Chicago, IL Chicago IL Chicago, IL Chicago IL Chicago, IL Chicago IL Chicago, IL Chicago IL Chicago, IL Chicago IL Chicago, IL Chicago IL Chicago, IL Chicago IL Chicago, IL Chicago IL Chicago, IL Chicago IL Chicago, IL Chicago IL Chicago, IL Chicago IL Chicago, IL Chicago IL Chicago, IL Chicago IL Chicago, IL Chicago IL Chicago, IL Chicago IL Chicago, IL Chicago IL Chicago, IL Chicago IL Chicago, IL Chicago IL Chicago, IL Chicago IL Chicago, IL Chicago IL Chicago, IL Chicago IL Chicago, IL Chicago IL Chicago, IL Chicago IL Chicago, IL Chicago IL Chicago, IL Chicago IL Chicago, IL Chicago IL Chicago, IL Chicago IL Chicago, IL Chicago IL Chicago, IL Chicago IL Chicago, IL Chicago IL Chicago, IL Chicago IL Chicago, IL Chicago IL Chicago, IL Chicago IL Chicago, IL Chicago IL Chicago, IL Chicago IL Chicago, IL Chicago IL Chicago, IL Chicago IL Chicago, IL Chicago IL Chicago, IL Chicago IL Chicago, IL Chicago IL Chicago, IL Chicago IL Chicago, IL Chicago IL Chicago, IL Chicago IL Chicago, IL Chicago IL Chicago, IL Chicago IL Chicago, IL Chicago IL Chicago, IL Chicago IL Chicago, IL Chicago IL Chicago, IL Chicago IL Chicago, IL Chicago IL Chicago, IL Chicago IL Chicago, IL Chicago IL Chicago, IL Chicago IL Chicago, IL Chicago IL Chicago, IL Chicago IL Chicago, IL Chicago IL Chicago, IL Chicago IL Chicago, IL Chicago IL Chicago, IL Chicago IL Chicago, IL Chicago IL Chicago, IL Chicago IL Chicago, IL Chicago IL Chicago, IL Chicago IL Chicago, IL Chicago IL Chicago, IL Chicago IL Chicago, IL Chicago IL Chicago, IL Chicago IL Chicago, IL Chicago IL Chicago, IL Chicago IL Chicago, IL Chicago IL Chicago, IL Chicago IL Chicago, IL Chicago IL Chicago, IL Chicago IL Chicago, IL Chicago IL Chicago, IL Chicago IL Chicago, IL Chicago IL Chicago, IL Chicago IL Chicago, IL Chicago IL Chicago, IL Chicago IL Chicago, IL Chicago IL Chicago, IL Chicago IL Chicago, IL Chicago IL Chicago, IL Chicago IL Chicago, IL Chicago IL Chicago, IL Chicago IL Chicago, IL Chicago IL Chicago, IL Chicago IL Chicago, IL Chicago IL Chicago, IL Chicago IL Chicago, IL Chicago IL Chicago, IL Chicago IL Chicago, IL Chicago IL Chicago, IL Chicago IL Chicago, IL Chicago IL Chicago, IL Chicago IL Chicago, IL Chicago IL Chicago, IL Chicago IL Chicago, IL Chicago IL Chicago, IL Chicago IL Chicago, IL Chicago IL Chicago, IL Chicago IL Chicago, IL Chicago IL Chicago, IL Chicago IL Chicago, IL Chicago IL Chicago, IL Chicago IL Chicago, IL Chicago IL Chicago, IL Chicago IL Chicago, IL Chicago IL Chicago, IL Chicago IL Chicago, IL Chicago IL Chicago, IL Chicago IL Chicago, IL Chicago IL Chicago, IL Chicago IL Chicago, IL Chicago IL Chicago, IL Chicago IL Chicago, IL Chicago IL Chicago, IL Chicago IL Chicago, IL Chicago IL Chicago, IL Chicago IL Chicago, IL Chicago IL Chicago, IL Chicago IL Chicago, IL Chicago IL Chicago, IL Chicago IL Chicago, IL Chicago IL Chicago, IL Chicago IL Chicago, IL Chicago IL Chicago, IL Chicago IL Chicago, IL Chicago IL Chicago, IL Chicago IL Chicago, IL Chicago IL Chicago, IL Chicago IL Chicago, IL Chicago IL Chicago, IL Chicago IL Chicago, IL Chicago IL Chicago, IL Chicago IL Chicago, IL Chicago IL Chicago, IL Chicago IL Chicago, IL Chicago IL Chicago, IL Chicago IL Chicago, IL Chicago IL Chicago, IL Chicago IL Chicago, IL Chicago IL Chicago, IL Chicago IL Chicago, IL Chicago IL Chicago, IL Chicago IL Chicago, IL Chicago IL Chicago, IL Chicago IL Chicago, IL Chicago IL Chicago, IL Chicago IL Chicago, IL Chicago IL Chicago, IL Chicago IL Chicago, IL Chicago IL Chicago, IL Chicago IL Chicago, IL Chicago IL Chicago, IL Chicago IL Chicago, IL Chicago IL Chicago, IL Chicago IL Chicago, IL Chicago IL Chicago, IL Chicago IL Chicago, IL Chicago IL Chicago, IL Chicago IL Chicago, IL Chicago IL Chicago, IL Chicago IL Chicago, IL Chicago IL Chicago, IL Chicago IL Chicago, IL Chicago IL Chicago, IL Chicago IL Chicago, IL Chicago IL Chicago, IL Chicago IL Chicago, IL Chicago IL Chicago, IL Chicago IL Chicago, IL Chicago IL Chicago, IL Chicago IL Chicago, IL Chicago IL Chicago, IL Chicago IL Chicago, IL Chicago IL Chicago, IL Chicago IL Chicago, IL Chicago IL Chicago, IL Chicago IL Chicago, IL Chicago IL Chicago, IL Chicago IL Chicago, IL Chicago IL Chicago, IL Chicago IL Chicago, IL Chicago IL Chicago, IL Chicago IL Chicago, IL Chicago IL Chicago, IL Chicago IL Chicago, IL Chicago IL Chicago, IL Chicago IL Chicago, IL Chicago IL Chicago, IL Chicago IL Chicago, IL Chicago IL Chicago, IL Chicago IL Chicago, IL Chicago IL Chicago, IL Chicago IL Chicago, IL Chicago IL Chicago, IL Chicago IL Chicago, IL Chicago IL Chicago, IL Chicago IL Chicago, IL Chicago IL Chicago, IL Chicago IL Chicago, IL Chicago IL Chicago, IL Chicago IL Chicago, IL Chicago IL Chicago, IL Chicago IL Chicago, IL Chicago IL Chicago, IL Chicago IL Chicago, IL Chicago IL Chicago, IL Chicago IL Chicago, IL Chicago IL Chicago, IL Chicago IL Chicago, IL Chicago IL Chicago, IL Chicago IL Chicago, IL Chicago IL Chicago, IL Chicago IL Chicago, IL Chicago IL Chicago, IL Chicago IL Chicago, IL Chicago IL Chicago, IL Chicago IL Chicago, IL Chicago IL Chicago, IL Chicago IL Chicago, IL Chicago IL Chicago, IL Chicago IL Chicago, IL Chicago IL Chicago, IL Chicago IL Chicago, IL Chicago IL Chicago, IL Chicago IL Chicago, IL Chicago IL Chicago, IL Chicago IL Chicago, IL Chicago IL Chicago, IL Chicago IL Chicago, IL Chicago IL Chicago, IL Chicago IL Chicago, IL Chicago IL Chicago, IL Chicago IL Chicago, IL Chicago IL Chicago, IL Chicago IL Chicago, IL Chicago IL Chicago, IL Chicago IL Chicago, IL Chicago IL Chicago, IL Chicago IL Chicago, IL Chicago IL Chicago, IL Chicago IL Chicago, IL Chicago IL Chicago, IL Chicago IL Chicago, IL Chicago IL Chicago, IL Chicago IL Chicago, IL Chicago IL Chicago, IL Chicago IL Chicago, IL Chicago IL Chicago, IL Chicago IL Chicago, IL Chicago IL Chicago, IL Chicago IL Chicago, IL Chicago IL Chicago, IL Chicago IL Chicago, IL Chicago IL Chicago, IL Chicago IL Chicago, IL Chicago IL Chicago, IL Chicago IL Chicago, IL Chicago IL Chicago, IL Chicago IL Chicago, IL Chicago IL Chicago, IL Chicago IL Chicago, IL Chicago IL Chicago, IL Chicago IL Chicago, IL Chicago IL Chicago, IL Chicago IL Chicago, IL Chicago IL Chicago, IL Chicago IL Chicago, IL Chicago IL Chicago, IL Chicago IL Chicago, IL Chicago IL Chicago, IL Chicago IL Chicago, IL Chicago IL Chicago, IL Chicago IL Chicago, IL Chicago IL Chicago, IL Chicago IL Chicago, IL Chicago IL Chicago, IL Chicago IL Chicago, IL Chicago IL Chicago, IL Chicago IL Chicago, IL Chicago IL Chicago, IL Chicago IL Chicago, IL Chicago IL Chicago, IL Chicago IL Chicago, IL Chicago IL Chicago, IL Chicago IL Chicago, IL Chicago IL Chicago, IL Chicago IL Chicago, IL Chicago IL Chicago, IL Chicago IL Chicago, IL Chicago IL Chicago, IL Chicago IL Chicago, IL Chicago IL Chicago, IL Chicago IL Chicago, IL Chicago IL Chicago, IL Chicago IL Chicago, IL Chicago IL Chicago, IL Chicago IL Chicago, IL Chicago IL Chicago, IL Chicago IL Chicago, IL Chicago IL Chicago, IL Chicago IL Chicago, IL Chicago IL Chicago, IL Chicago IL Chicago, IL Chicago IL Chicago, IL Chicago IL Chicago, IL Chicago IL Chicago, IL Chicago IL Chicago, IL Chicago IL Chicago, IL Chicago IL Chicago, IL Chicago IL Chicago, IL Chicago IL Chicago, IL Chicago IL Chicago, IL Chicago IL Chicago, IL Chicago IL Chicago, IL Chicago IL Chicago, IL Chicago IL Chicago, IL Chicago IL Chicago, IL Chicago IL Chicago, IL Chicago IL Chicago, IL Chicago IL Chicago, IL Chicago IL Chicago, IL Chicago IL Chicago, IL Chicago IL Chicago, IL Chicago IL Chicago, IL Chicago IL Chicago, IL Chicago IL Chicago, IL Chicago IL Chicago, IL Chicago IL Chicago, IL Chicago IL Chicago, IL Chicago IL Chicago, IL Chicago IL Chicago, IL Chicago IL Chicago, IL Chicago IL Chicago, IL Chicago IL Chicago, IL Chicago IL Chicago, IL Chicago IL Chicago, IL Chicago IL Chicago, IL Chicago IL Chicago, IL Chicago IL Chicago, IL Chicago IL Chicago, IL Chicago IL Chicago, IL Chicago IL Chicago, IL Chicago IL Chicago, IL Chicago IL Chicago, IL Chicago IL Chicago, IL Chicago IL Chicago, IL Chicago IL Chicago, IL Chicago IL Chicago, IL Chicago IL Chicago, IL Chicago IL Chicago, IL Chicago IL Chicago, IL Chicago IL Chicago, IL Chicago IL Chicago, IL Chicago IL Chicago, IL Chicago IL Chicago, IL Chicago IL Chicago, IL Chicago IL Chicago, IL Chicago IL Chicago, IL Chicago IL Chicago, IL Chicago IL Chicago, IL Chicago IL Chicago, IL Chicago IL Chicago, IL Chicago IL Chicago, IL Chicago IL Chicago, IL Chicago IL Chicago, IL Chicago IL Chicago, IL Chicago IL Chicago, IL Chicago IL Chicago, IL Chicago IL Chicago, IL Chicago IL Chicago, IL Chicago IL Chicago, IL Chicago IL Chicago, IL Chicago IL Chicago, IL Chicago IL Chicago, IL Chicago IL Chicago, IL Chicago IL Chicago, IL Chicago IL Chicago, IL Chicago IL Chicago, IL Chicago IL Chicago, IL Chicago IL Chicago, IL Chicago IL Chicago, IL Chicago IL Chicago, IL Chicago IL Chicago, IL Chicago IL Chicago, IL Chicago IL Chicago, IL Chicago IL Chicago, IL Chicago IL Chicago, IL Chicago IL Chicago, IL Chicago IL Chicago, IL Chicago IL Chicago, IL Chicago IL Chicago, IL Chicago IL Chicago, IL Chicago IL Chicago, IL Chicago IL Chicago, IL Chicago IL Chicago, IL Chicago IL Chicago, IL Chicago IL Chicago, IL Chicago IL Chicago, IL Chicago IL Chicago, IL Chicago IL Chicago, IL Chicago IL Chicago, IL Chicago IL Chicago, IL Chicago IL Chicago, IL Chicago IL Chicago, IL Chicago IL Chicago, IL Chicago IL Chicago, IL Chicago IL Chicago, IL Chicago IL Chicago, IL Chicago IL Chicago, IL Chicago IL Chicago, IL Chicago IL Chicago, IL Chicago IL Chicago, IL Chicago IL Chicago, IL Chicago IL Chicago, IL Chicago IL Chicago, IL Chicago IL Chicago, IL Chicago IL Chicago, IL Chicago IL Chicago, IL Chicago IL Chicago, IL Chicago IL Chicago, IL Chicago IL Chicago, IL Chicago IL Chicago, IL Chicago IL Chicago, IL Chicago IL Chicago, IL Chicago IL Chicago, IL Chicago IL Chicago, IL Chicago IL Chicago, IL Chicago IL Chicago, IL Chicago IL Chicago, IL Chicago IL Chicago, IL Chicago IL Chicago, IL Chicago IL Chicago, IL Chicago IL Chicago, IL Chicago IL Chicago, IL Chicago IL Chicago, IL Chicago IL Chicago, IL Chicago IL Chicago, IL Chicago IL Chicago, IL Chicago IL Chicago, IL Chicago IL Chicago, IL Chicago IL Chicago, IL Chicago IL Chicago, IL Chicago IL Chicago, IL Chicago IL Chicago, IL Chicago IL Chicago, IL Chicago IL Chicago, IL Chicago IL Chicago, IL Chicago IL Chicago, IL Chicago IL Chicago, IL Chicago IL Chicago, IL Chicago IL Chicago, IL Chicago IL Chicago, IL Chicago IL Chicago, IL Chicago IL Chicago, IL Chicago IL Chicago, IL Chicago IL Chicago, IL Chicago IL Chicago, IL Chicago IL Chicago, IL Chicago IL Chicago, IL Chicago IL Chicago, IL Chicago IL Chicago, IL Chicago IL Chicago, IL Chicago IL Chicago, IL Chicago IL Chicago, IL Chicago IL Chicago, IL Chicago IL Chicago, IL Chicago IL Chicago, IL Chicago IL Chicago, IL Chicago IL Chicago, IL Chicago IL Chicago, IL Chicago IL Chicago, IL Chicago IL Chicago, IL Chicago IL Chicago, IL Chicago IL Chicago, IL Chicago IL Chicago, IL Chicago IL Chicago, IL Chicago IL Chicago, IL Chicago IL Chicago, IL Chicago IL Chicago, IL Chicago IL Chicago, IL Chicago IL Chicago, IL Chicago IL Chicago, IL Chicago IL Chicago, IL Chicago IL Chicago, IL Chicago IL Chicago, IL Chicago IL Chicago, IL Chicago IL Chicago, IL Chicago IL Chicago, IL Chicago IL Chicago, IL Chicago IL Chicago, IL Chicago IL'}"
      ]
     },
     "execution_count": 708,
     "metadata": {},
     "output_type": "execute_result"
    }
   ],
   "source": [
    "# dict[key] = new value\n",
    "\n",
    "placeholder = d_3['bob']\n",
    "\n",
    "d_3['bob'] = placeholder + \" Chicago, IL\"\n",
    "d_3['bob'] = d_3['bob'] + ' Chicago IL'\n",
    "\n",
    "d_3"
   ]
  },
  {
   "cell_type": "markdown",
   "metadata": {},
   "source": [
    "##### Removing Key, Value Pairs"
   ]
  },
  {
   "cell_type": "code",
   "execution_count": 709,
   "metadata": {},
   "outputs": [
    {
     "data": {
      "text/plain": [
       "{'dave': '225 Main Street',\n",
       " 'Anthony': '410 Ave',\n",
       " 0: 'This is a value for the key of 0'}"
      ]
     },
     "execution_count": 709,
     "metadata": {},
     "output_type": "execute_result"
    }
   ],
   "source": [
    "# del dict[key]\n",
    "del d_3['bob']\n",
    "\n",
    "d_3"
   ]
  },
  {
   "cell_type": "markdown",
   "metadata": {},
   "source": [
    "##### Looping a Dictionary"
   ]
  },
  {
   "cell_type": "code",
   "execution_count": 710,
   "metadata": {},
   "outputs": [
    {
     "name": "stdout",
     "output_type": "stream",
     "text": [
      "dave 225 Main Street\n",
      "Anthony 410 Ave\n",
      "0 This is a value for the key of 0\n"
     ]
    }
   ],
   "source": [
    "# .items()\n",
    "# a, b, c = 1, 2, 3\n",
    "# print(a)\n",
    "# print(b)\n",
    "# print(c)\n",
    "\n",
    "\n",
    "# Correct way to access key value pairs\n",
    "for key,value in d_3.items():\n",
    "    print(key,value)\n"
   ]
  },
  {
   "cell_type": "markdown",
   "metadata": {},
   "source": [
    "##### Looping Only Keys"
   ]
  },
  {
   "cell_type": "code",
   "execution_count": 712,
   "metadata": {},
   "outputs": [
    {
     "name": "stdout",
     "output_type": "stream",
     "text": [
      "dave\n",
      "Anthony\n",
      "0\n"
     ]
    }
   ],
   "source": [
    "# .keys()\n",
    "\n",
    "for key in d_3.keys():\n",
    "    print(key)"
   ]
  },
  {
   "cell_type": "markdown",
   "metadata": {},
   "source": [
    "##### Looping Only Values"
   ]
  },
  {
   "cell_type": "code",
   "execution_count": 713,
   "metadata": {},
   "outputs": [
    {
     "name": "stdout",
     "output_type": "stream",
     "text": [
      "225 Main Street\n",
      "410 Ave\n",
      "This is a value for the key of 0\n"
     ]
    }
   ],
   "source": [
    "# .values()\n",
    "\n",
    "for value in d_3.values():\n",
    "    print(value)"
   ]
  },
  {
   "cell_type": "markdown",
   "metadata": {},
   "source": [
    "## In-Class Exercise #2 - Create a Function that Prints All Key Value Pairs within a print .format() <br>\n",
    "<p><b>Output should be:</b><br>\n",
    "Max has blue eyes<br>\n",
    "Lilly has brown eyes<br>\n",
    "Barney has blue eyes<br>\n",
    "etc.\n",
    "</p>"
   ]
  },
  {
   "cell_type": "code",
   "execution_count": null,
   "metadata": {},
   "outputs": [],
   "source": [
    "# use the dict below\n",
    "\n",
    "people = {\n",
    "    'Max': 'blue',\n",
    "    'Lilly': 'brown',\n",
    "    'Barney': 'blue',\n",
    "    'Larney': 'brown',\n",
    "    'Ted': 'purple'\n",
    "}\n",
    "\n",
    "def people():\n",
    "    for key, value in people.items():\n",
    "        print(f\"{key} has {value} eyes\")\n",
    "        \n",
    "peoples()\n",
    "\n",
    "\n",
    "\n",
    "\n",
    "#for people in people:\n",
    "   # result = "
   ]
  },
  {
   "cell_type": "markdown",
   "metadata": {},
   "source": [
    "##### sorted()"
   ]
  },
  {
   "cell_type": "code",
   "execution_count": 715,
   "metadata": {},
   "outputs": [
    {
     "ename": "NameError",
     "evalue": "name 'people' is not defined",
     "output_type": "error",
     "traceback": [
      "\u001b[1;31m---------------------------------------------------------------------------\u001b[0m",
      "\u001b[1;31mNameError\u001b[0m                                 Traceback (most recent call last)",
      "\u001b[1;32m<ipython-input-715-4a49a9ec1f40>\u001b[0m in \u001b[0;36m<module>\u001b[1;34m\u001b[0m\n\u001b[0;32m      1\u001b[0m \u001b[1;31m# sorts variables in order\u001b[0m\u001b[1;33m\u001b[0m\u001b[1;33m\u001b[0m\u001b[1;33m\u001b[0m\u001b[0m\n\u001b[0;32m      2\u001b[0m \u001b[1;31m# sorted(dict.values()) or dict.keys() or dict.items()\u001b[0m\u001b[1;33m\u001b[0m\u001b[1;33m\u001b[0m\u001b[1;33m\u001b[0m\u001b[0m\n\u001b[1;32m----> 3\u001b[1;33m \u001b[0mprint\u001b[0m\u001b[1;33m(\u001b[0m\u001b[0msorted\u001b[0m\u001b[1;33m(\u001b[0m\u001b[0mpeople\u001b[0m\u001b[1;33m.\u001b[0m\u001b[0mitems\u001b[0m\u001b[1;33m(\u001b[0m\u001b[1;33m)\u001b[0m\u001b[1;33m)\u001b[0m\u001b[1;33m)\u001b[0m\u001b[1;33m\u001b[0m\u001b[1;33m\u001b[0m\u001b[0m\n\u001b[0m\u001b[0;32m      4\u001b[0m \u001b[0mprint\u001b[0m\u001b[1;33m(\u001b[0m\u001b[0msorted\u001b[0m\u001b[1;33m(\u001b[0m\u001b[0mpeople\u001b[0m\u001b[1;33m.\u001b[0m\u001b[0mkeys\u001b[0m\u001b[1;33m(\u001b[0m\u001b[1;33m)\u001b[0m\u001b[1;33m)\u001b[0m\u001b[1;33m)\u001b[0m\u001b[1;33m\u001b[0m\u001b[1;33m\u001b[0m\u001b[0m\n\u001b[0;32m      5\u001b[0m \u001b[0mprint\u001b[0m\u001b[1;33m(\u001b[0m\u001b[0msorted\u001b[0m\u001b[1;33m(\u001b[0m\u001b[0mpeople\u001b[0m\u001b[1;33m.\u001b[0m\u001b[0mvalues\u001b[0m\u001b[1;33m(\u001b[0m\u001b[1;33m)\u001b[0m\u001b[1;33m)\u001b[0m\u001b[1;33m)\u001b[0m\u001b[1;33m\u001b[0m\u001b[1;33m\u001b[0m\u001b[0m\n",
      "\u001b[1;31mNameError\u001b[0m: name 'people' is not defined"
     ]
    }
   ],
   "source": [
    "# sorts variables in order\n",
    "# sorted(dict.values()) or dict.keys() or dict.items()\n",
    "print(sorted(people.items()))\n",
    "print(sorted(people.keys()))\n",
    "print(sorted(people.values()))\n"
   ]
  },
  {
   "cell_type": "markdown",
   "metadata": {},
   "source": [
    "##### List with Dictionaries"
   ]
  },
  {
   "cell_type": "code",
   "execution_count": null,
   "metadata": {},
   "outputs": [],
   "source": [
    "names = [\"Dave\", \"Randy\", \"Greg\", {\"random_guy\":\"Robert\", \"random_girl\":\"Barbra\"}]\n",
    "print(names[3]['random_girl'])\n",
    "\n",
    "# Get all keys from nested dictionary in list\n",
    "\n",
    "for key,value in names[3].items():\n",
    "    print(key,values)"
   ]
  },
  {
   "cell_type": "markdown",
   "metadata": {},
   "source": [
    "##### Dictionaries with Lists"
   ]
  },
  {
   "cell_type": "code",
   "execution_count": 716,
   "metadata": {},
   "outputs": [
    {
     "ename": "SyntaxError",
     "evalue": "invalid syntax (<ipython-input-716-6e7b1a6d1f82>, line 4)",
     "output_type": "error",
     "traceback": [
      "\u001b[1;36m  File \u001b[1;32m\"<ipython-input-716-6e7b1a6d1f82>\"\u001b[1;36m, line \u001b[1;32m4\u001b[0m\n\u001b[1;33m    '2' :['smith']\u001b[0m\n\u001b[1;37m    ^\u001b[0m\n\u001b[1;31mSyntaxError\u001b[0m\u001b[1;31m:\u001b[0m invalid syntax\n"
     ]
    }
   ],
   "source": [
    "# be careful when using numbers as keys in dictionaries, don't confuse them with indexes\n",
    "random_data ={\n",
    "    'list1' : [33, 7, 12]\n",
    "    '2' :['smith']\n",
    "}\n",
    "\n",
    "for key in random_data['2']:\n",
    "    print(key)\n",
    "    \n",
    "print(random_data['2'][0])\n",
    "    \n"
   ]
  },
  {
   "cell_type": "markdown",
   "metadata": {},
   "source": [
    "##### Dictionaries with Dictionaries"
   ]
  },
  {
   "cell_type": "code",
   "execution_count": null,
   "metadata": {},
   "outputs": [],
   "source": [
    "# to get values, must traverse through keys\n",
    "food_dict = {\n",
    "     \n",
    "}"
   ]
  },
  {
   "cell_type": "markdown",
   "metadata": {},
   "source": [
    "## Dictionaries vs. Lists (over time) Example of RUNTIME\n",
    "### When inputting values in a Dictionary vs List"
   ]
  },
  {
   "cell_type": "code",
   "execution_count": null,
   "metadata": {},
   "outputs": [],
   "source": [
    "import time\n",
    "\n",
    "\n",
    "# generate fake dictionary\n",
    "d = {}\n",
    "\n",
    "for i in range(10000000):\n",
    "    d[i] = 'value\n",
    "    \n",
    "\n",
    "# generate fake list\n",
    "big_list = [x for x in range(10000000)]"
   ]
  },
  {
   "cell_type": "code",
   "execution_count": 5,
   "metadata": {},
   "outputs": [
    {
     "ename": "NameError",
     "evalue": "name 'time' is not defined",
     "output_type": "error",
     "traceback": [
      "\u001b[1;31m---------------------------------------------------------------------------\u001b[0m",
      "\u001b[1;31mNameError\u001b[0m                                 Traceback (most recent call last)",
      "\u001b[1;32m<ipython-input-5-37445a94120a>\u001b[0m in \u001b[0;36m<module>\u001b[1;34m\u001b[0m\n\u001b[0;32m      1\u001b[0m \u001b[1;31m# tracking time for dictionary\u001b[0m\u001b[1;33m\u001b[0m\u001b[1;33m\u001b[0m\u001b[1;33m\u001b[0m\u001b[0m\n\u001b[0;32m      2\u001b[0m \u001b[1;31m#hashmap\u001b[0m\u001b[1;33m\u001b[0m\u001b[1;33m\u001b[0m\u001b[1;33m\u001b[0m\u001b[0m\n\u001b[1;32m----> 3\u001b[1;33m \u001b[0mstart_time\u001b[0m \u001b[1;33m=\u001b[0m \u001b[0mtime\u001b[0m\u001b[1;33m.\u001b[0m\u001b[0mtime\u001b[0m\u001b[1;33m(\u001b[0m\u001b[1;33m)\u001b[0m\u001b[1;33m\u001b[0m\u001b[1;33m\u001b[0m\u001b[0m\n\u001b[0m\u001b[0;32m      4\u001b[0m \u001b[1;33m\u001b[0m\u001b[0m\n\u001b[0;32m      5\u001b[0m \u001b[0mprint\u001b[0m\u001b[1;33m(\u001b[0m\u001b[0md\u001b[0m\u001b[1;33m[\u001b[0m\u001b[1;36m9999999\u001b[0m\u001b[1;33m]\u001b[0m\u001b[1;33m)\u001b[0m\u001b[1;33m\u001b[0m\u001b[1;33m\u001b[0m\u001b[0m\n",
      "\u001b[1;31mNameError\u001b[0m: name 'time' is not defined"
     ]
    }
   ],
   "source": [
    "# tracking time for dictionary\n",
    "#hashmap #dictionaries are faster while lists have to look through the memory one by one consecutively\n",
    "start_time = time.time()\n",
    "\n",
    "print(d[9999999])\n",
    "\n",
    "end_time = time.time() - start_time\n",
    "\n",
    "print('Elapsed time for dictionary: {}'.format(end_time))\n",
    "\n",
    "\n",
    "# tracking time for list\n",
    "start_time = time.time()\n",
    "\n",
    "for i in range(len(big_list)):\n",
    "    if i == 9999999:\n",
    "        print(i)\n",
    "\n",
    "end_time = time.time() - start_time\n",
    "\n",
    "print('Elapsed time for list: {}'.format(end_time))"
   ]
  },
  {
   "cell_type": "markdown",
   "metadata": {},
   "source": [
    "## Exercise #3 - Write a Function that asks someone's name and address, and then stores that into a dictionary, and continues to do so until they choose to 'quit'. Once they quit, the program should print all names and addresses. <br>\n",
    "<p>\n",
    "<b>Proper steps:</b><br>\n",
    "step 1: write a function that takes in information and stores it in a dictionary<br>\n",
    "step 2: define an empty dictionary to work with<br>\n",
    "step 3: create our loop, which asks the user for information until they quit<br>\n",
    "step 4: ask for the information, and store it into variables<br>\n",
    "step 5: check if the user types quit<br>\n",
    "step 5a: print out all information<br>\n",
    "step 5b: break out of the loop<br>\n",
    "step 6: if they didn't quit, add the information to the dictionary<br>\n",
    "step 7: invoke the function by calling it\n",
    "</p>"
   ]
  },
  {
   "cell_type": "code",
   "execution_count": 18,
   "metadata": {
    "scrolled": true
   },
   "outputs": [
    {
     "ename": "KeyboardInterrupt",
     "evalue": "Interrupted by user",
     "output_type": "error",
     "traceback": [
      "\u001b[1;31m---------------------------------------------------------------------------\u001b[0m",
      "\u001b[1;31mKeyboardInterrupt\u001b[0m                         Traceback (most recent call last)",
      "\u001b[1;32m<ipython-input-18-534460ed415b>\u001b[0m in \u001b[0;36m<module>\u001b[1;34m\u001b[0m\n\u001b[0;32m     29\u001b[0m             \u001b[1;32mbreak\u001b[0m \u001b[1;31m#Step 5b\u001b[0m\u001b[1;33m\u001b[0m\u001b[1;33m\u001b[0m\u001b[0m\n\u001b[0;32m     30\u001b[0m         \u001b[0md\u001b[0m\u001b[1;33m[\u001b[0m\u001b[0mname\u001b[0m\u001b[1;33m]\u001b[0m \u001b[1;33m=\u001b[0m \u001b[0maddress\u001b[0m \u001b[1;31m# Apart of Step 4 & Step 6\u001b[0m\u001b[1;33m\u001b[0m\u001b[1;33m\u001b[0m\u001b[0m\n\u001b[1;32m---> 31\u001b[1;33m \u001b[0mstoreInfo\u001b[0m\u001b[1;33m(\u001b[0m\u001b[1;33m)\u001b[0m \u001b[1;31m# Step 7\u001b[0m\u001b[1;33m\u001b[0m\u001b[1;33m\u001b[0m\u001b[0m\n\u001b[0m",
      "\u001b[1;32m<ipython-input-18-534460ed415b>\u001b[0m in \u001b[0;36mstoreInfo\u001b[1;34m()\u001b[0m\n\u001b[0;32m     19\u001b[0m     \u001b[1;32mwhile\u001b[0m \u001b[1;32mTrue\u001b[0m\u001b[1;33m:\u001b[0m\u001b[1;33m\u001b[0m\u001b[1;33m\u001b[0m\u001b[0m\n\u001b[0;32m     20\u001b[0m         \u001b[1;31m# Step 4\u001b[0m\u001b[1;33m\u001b[0m\u001b[1;33m\u001b[0m\u001b[1;33m\u001b[0m\u001b[0m\n\u001b[1;32m---> 21\u001b[1;33m         \u001b[0mname\u001b[0m \u001b[1;33m=\u001b[0m \u001b[0minput\u001b[0m\u001b[1;33m(\u001b[0m\u001b[1;34m\"Enter a name to be stored or say 'quit': \"\u001b[0m\u001b[1;33m)\u001b[0m\u001b[1;33m\u001b[0m\u001b[1;33m\u001b[0m\u001b[0m\n\u001b[0m\u001b[0;32m     22\u001b[0m         \u001b[0maddress\u001b[0m \u001b[1;33m=\u001b[0m \u001b[0minput\u001b[0m\u001b[1;33m(\u001b[0m\u001b[1;34m\"Enter an address to be stored or say 'quit': \"\u001b[0m\u001b[1;33m)\u001b[0m\u001b[1;33m\u001b[0m\u001b[1;33m\u001b[0m\u001b[0m\n\u001b[0;32m     23\u001b[0m         \u001b[0mclear_output\u001b[0m\u001b[1;33m(\u001b[0m\u001b[1;33m)\u001b[0m\u001b[1;33m\u001b[0m\u001b[1;33m\u001b[0m\u001b[0m\n",
      "\u001b[1;32m~\\anaconda3\\envs\\intro\\lib\\site-packages\\ipykernel\\kernelbase.py\u001b[0m in \u001b[0;36mraw_input\u001b[1;34m(self, prompt)\u001b[0m\n\u001b[0;32m    858\u001b[0m                 \u001b[1;34m\"raw_input was called, but this frontend does not support input requests.\"\u001b[0m\u001b[1;33m\u001b[0m\u001b[1;33m\u001b[0m\u001b[0m\n\u001b[0;32m    859\u001b[0m             )\n\u001b[1;32m--> 860\u001b[1;33m         return self._input_request(str(prompt),\n\u001b[0m\u001b[0;32m    861\u001b[0m             \u001b[0mself\u001b[0m\u001b[1;33m.\u001b[0m\u001b[0m_parent_ident\u001b[0m\u001b[1;33m,\u001b[0m\u001b[1;33m\u001b[0m\u001b[1;33m\u001b[0m\u001b[0m\n\u001b[0;32m    862\u001b[0m             \u001b[0mself\u001b[0m\u001b[1;33m.\u001b[0m\u001b[0m_parent_header\u001b[0m\u001b[1;33m,\u001b[0m\u001b[1;33m\u001b[0m\u001b[1;33m\u001b[0m\u001b[0m\n",
      "\u001b[1;32m~\\anaconda3\\envs\\intro\\lib\\site-packages\\ipykernel\\kernelbase.py\u001b[0m in \u001b[0;36m_input_request\u001b[1;34m(self, prompt, ident, parent, password)\u001b[0m\n\u001b[0;32m    902\u001b[0m             \u001b[1;32mexcept\u001b[0m \u001b[0mKeyboardInterrupt\u001b[0m\u001b[1;33m:\u001b[0m\u001b[1;33m\u001b[0m\u001b[1;33m\u001b[0m\u001b[0m\n\u001b[0;32m    903\u001b[0m                 \u001b[1;31m# re-raise KeyboardInterrupt, to truncate traceback\u001b[0m\u001b[1;33m\u001b[0m\u001b[1;33m\u001b[0m\u001b[1;33m\u001b[0m\u001b[0m\n\u001b[1;32m--> 904\u001b[1;33m                 \u001b[1;32mraise\u001b[0m \u001b[0mKeyboardInterrupt\u001b[0m\u001b[1;33m(\u001b[0m\u001b[1;34m\"Interrupted by user\"\u001b[0m\u001b[1;33m)\u001b[0m \u001b[1;32mfrom\u001b[0m \u001b[1;32mNone\u001b[0m\u001b[1;33m\u001b[0m\u001b[1;33m\u001b[0m\u001b[0m\n\u001b[0m\u001b[0;32m    905\u001b[0m             \u001b[1;32mexcept\u001b[0m \u001b[0mException\u001b[0m \u001b[1;32mas\u001b[0m \u001b[0me\u001b[0m\u001b[1;33m:\u001b[0m\u001b[1;33m\u001b[0m\u001b[1;33m\u001b[0m\u001b[0m\n\u001b[0;32m    906\u001b[0m                 \u001b[0mself\u001b[0m\u001b[1;33m.\u001b[0m\u001b[0mlog\u001b[0m\u001b[1;33m.\u001b[0m\u001b[0mwarning\u001b[0m\u001b[1;33m(\u001b[0m\u001b[1;34m\"Invalid Message:\"\u001b[0m\u001b[1;33m,\u001b[0m \u001b[0mexc_info\u001b[0m\u001b[1;33m=\u001b[0m\u001b[1;32mTrue\u001b[0m\u001b[1;33m)\u001b[0m\u001b[1;33m\u001b[0m\u001b[1;33m\u001b[0m\u001b[0m\n",
      "\u001b[1;31mKeyboardInterrupt\u001b[0m: Interrupted by user"
     ]
    }
   ],
   "source": [
    "from IPython.display import clear_output\n",
    "\n",
    "#input, dictionary, loops, quit break, if, else\n",
    "\n",
    "d = {}\n",
    "\n",
    "\n",
    "def persons():\n",
    "    while True:\n",
    "        name = input(\"Enter a name of 'quit'?\")\n",
    "        address = input(\"Enter an address or 'quit'\")\n",
    "      \n",
    "    printInput(ask)\n",
    "\n",
    "\n",
    "    \n",
    "    #joels\n",
    "# from IPython.display import clear_output\n",
    "# #Step 1\n",
    "# def storeInfo():\n",
    "#     d = {} # Step 2\n",
    "#     # Step 3\n",
    "#     while True:\n",
    "#         # Step 4\n",
    "#         name = input(\"Enter a name to be stored or say 'quit': \")\n",
    "#         address = input(\"Enter an address to be stored or say 'quit': \")\n",
    "#         clear_output()\n",
    "#         #Step 5\n",
    "#         if name.lower() == 'quit' and address.lower() == 'quit':\n",
    "#             #Step 5a\n",
    "#             for key,value in d.items():\n",
    "#                 print(f\"The Address for {key} is {value}\")\n",
    "#             break #Step 5b\n",
    "#         d[name] = address # Apart of Step 4 & Step 6\n",
    "# storeInfo() # Step 7"
   ]
  },
  {
   "cell_type": "code",
   "execution_count": 19,
   "metadata": {},
   "outputs": [
    {
     "data": {
      "text/plain": [
       "dict_items([('radius', 'val'), ('another', 'one')])"
      ]
     },
     "execution_count": 19,
     "metadata": {},
     "output_type": "execute_result"
    }
   ],
   "source": [
    "d = {'radius': 'val', 'another': 'one'}\n",
    "\n",
    "d.items()"
   ]
  },
  {
   "cell_type": "markdown",
   "metadata": {},
   "source": [
    "## Set <br>\n",
    "<p>A Set is an unordered collection data type that is iterable (loop), mutable, and has no duplicate elements.<br>Major advantage is that it is highly optimized in checking if something is in the set, as opposed to checking if something is in a list.</p>"
   ]
  },
  {
   "cell_type": "markdown",
   "metadata": {},
   "source": [
    "##### Declaring"
   ]
  },
  {
   "cell_type": "code",
   "execution_count": 23,
   "metadata": {},
   "outputs": [
    {
     "name": "stdout",
     "output_type": "stream",
     "text": [
      "{1, 4, 6}\n",
      "{1, 4, 6}\n"
     ]
    }
   ],
   "source": [
    "# set() or {}\n",
    "# no order {3, 2, 1} outputs as {1, 2, 3}\n",
    "\n",
    "nums = {4,1,6,4}\n",
    "\n",
    "# OR\n",
    "\n",
    "nums_again = set([4,1,6,4])\n",
    "\n",
    "print(nums)\n",
    "print(nums_again)\n"
   ]
  },
  {
   "cell_type": "markdown",
   "metadata": {},
   "source": [
    "##### .add()"
   ]
  },
  {
   "cell_type": "code",
   "execution_count": 30,
   "metadata": {},
   "outputs": [
    {
     "name": "stdout",
     "output_type": "stream",
     "text": [
      "{56, 1, 4, 6}\n",
      "{56, 1, 4, 6}\n"
     ]
    }
   ],
   "source": [
    "\n",
    "#.add() specific to sets\n",
    "# set.add()\n",
    "\n",
    "nums.add(56)\n",
    "\n",
    "print(nums)\n",
    "\n",
    "nums.add(4)\n",
    "\n",
    "print(nums)"
   ]
  },
  {
   "cell_type": "markdown",
   "metadata": {},
   "source": [
    "##### .remove()"
   ]
  },
  {
   "cell_type": "code",
   "execution_count": 31,
   "metadata": {},
   "outputs": [
    {
     "name": "stdout",
     "output_type": "stream",
     "text": [
      "{1, 4, 6}\n"
     ]
    }
   ],
   "source": [
    "# removes by value\n",
    "# set.remove()\n",
    "# nums.remove(56)\n",
    "\n",
    "#key in value?\n",
    "\n",
    "nums.remove(56)\n",
    "\n",
    "print(nums)\n",
    "\n",
    "\n"
   ]
  },
  {
   "cell_type": "markdown",
   "metadata": {},
   "source": [
    "##### .union() "
   ]
  },
  {
   "cell_type": "code",
   "execution_count": 34,
   "metadata": {},
   "outputs": [
    {
     "name": "stdout",
     "output_type": "stream",
     "text": [
      "{1, 2, 3, 4, 5, 6, 7}\n",
      "{1, 2, 3, 4, 5, 6, 7}\n"
     ]
    }
   ],
   "source": [
    "# Returns a union of two sets, can also use '|' or set.union(set)\n",
    "# joins all numbers, gets rid of duplicates\n",
    "\n",
    "s1 = {1,2,3,4,5}\n",
    "s2 = {3,4,5,6,7}\n",
    "\n",
    "s3 = s1.union(s2)\n",
    "\n",
    "# OR\n",
    "\n",
    "s4 = s1 | s2\n",
    "\n",
    "print(s3)\n",
    "print(s4)"
   ]
  },
  {
   "cell_type": "markdown",
   "metadata": {},
   "source": [
    "##### .intersection()"
   ]
  },
  {
   "cell_type": "code",
   "execution_count": 35,
   "metadata": {},
   "outputs": [
    {
     "name": "stdout",
     "output_type": "stream",
     "text": [
      "{3, 4, 5}\n",
      "{3, 4, 5}\n"
     ]
    }
   ],
   "source": [
    "# Returns an intersection of two sets, can also use '&'\n",
    "# only takes similar elements from both sets\n",
    "\n",
    "s5 = s2 & s1\n",
    "\n",
    "# OR\n",
    "\n",
    "s6 = s1.intersection(s2)\n",
    "\n",
    "print(s5)\n",
    "print(s6)\n",
    "\n"
   ]
  },
  {
   "cell_type": "markdown",
   "metadata": {},
   "source": [
    "##### .difference()"
   ]
  },
  {
   "cell_type": "code",
   "execution_count": 36,
   "metadata": {},
   "outputs": [
    {
     "name": "stdout",
     "output_type": "stream",
     "text": [
      "{6, 7}\n",
      "{1, 2}\n"
     ]
    }
   ],
   "source": [
    "# Returns a set containing all the elements of invoking set that are not in the second set, can also use '-'\n",
    "# only takes values from the first set that are not in the second set\n",
    "# order matters\n",
    "\n",
    "s7 = s2 - s1 \n",
    "\n",
    "# OR\n",
    "\n",
    "s8 = s1.difference(s2)\n",
    "\n",
    "print(s7)\n",
    "\n",
    "print(s8)\n",
    "\n"
   ]
  },
  {
   "cell_type": "markdown",
   "metadata": {},
   "source": [
    "##### .clear()"
   ]
  },
  {
   "cell_type": "code",
   "execution_count": 38,
   "metadata": {},
   "outputs": [
    {
     "name": "stdout",
     "output_type": "stream",
     "text": [
      "set() {6, 7}\n"
     ]
    }
   ],
   "source": [
    "# Empties the whole set\n",
    "# set.clear()\n",
    "\n",
    "s8.clear()\n",
    "\n",
    "print(s8)"
   ]
  },
  {
   "cell_type": "markdown",
   "metadata": {},
   "source": [
    "##### Frozenset <br>\n",
    "<p>Frozen sets are immutable objects that only support methods and operators that produce a result without affecting the frozen set or sets to which they are applied.</p><br><b>Unique & Immutable</b>"
   ]
  },
  {
   "cell_type": "code",
   "execution_count": 39,
   "metadata": {},
   "outputs": [
    {
     "name": "stdout",
     "output_type": "stream",
     "text": [
      "frozenset({1, 2, 3, 4, 5, 6, 7})\n"
     ]
    }
   ],
   "source": [
    "# frozenset([])\n",
    "\n",
    "my_frozen_set = frozenset(s3)\n",
    "\n",
    "print(my_frozen_set)\n",
    "\n"
   ]
  },
  {
   "cell_type": "markdown",
   "metadata": {},
   "source": [
    "## Modules"
   ]
  },
  {
   "cell_type": "markdown",
   "metadata": {},
   "source": [
    "##### Importing Entire Modules"
   ]
  },
  {
   "cell_type": "code",
   "execution_count": 41,
   "metadata": {},
   "outputs": [
    {
     "name": "stdout",
     "output_type": "stream",
     "text": [
      "3.141592653589793\n",
      "3\n"
     ]
    }
   ],
   "source": [
    "# import or from 'xxx' import *\n",
    "# import math\n",
    "import math\n",
    "\n",
    "print(math.pi)\n",
    "print(math.floor(math.pi))"
   ]
  },
  {
   "cell_type": "markdown",
   "metadata": {},
   "source": [
    "##### Importing Methods Only"
   ]
  },
  {
   "cell_type": "code",
   "execution_count": 42,
   "metadata": {},
   "outputs": [
    {
     "name": "stdout",
     "output_type": "stream",
     "text": [
      "3.141592653589793\n",
      "3\n"
     ]
    }
   ],
   "source": [
    "# from 'xxx' import 'xxx'\n",
    "# from math import floor\n",
    "\n",
    "from math import floor,pi\n",
    "\n",
    "print(pi)\n",
    "\n",
    "print(floor(pi))\n",
    "\n"
   ]
  },
  {
   "cell_type": "markdown",
   "metadata": {},
   "source": [
    "##### Using the 'as' Keyword"
   ]
  },
  {
   "cell_type": "code",
   "execution_count": 43,
   "metadata": {},
   "outputs": [
    {
     "name": "stdout",
     "output_type": "stream",
     "text": [
      "3.141592653589793\n",
      "3\n"
     ]
    }
   ],
   "source": [
    "# from 'xxx' import 'xxx' as 'xxx' or import 'xxx' as 'xxx'\n",
    "# from math import floor as f\n",
    "\n",
    "from math import floor as f, pi as p\n",
    "\n",
    "print(p)\n",
    "\n",
    "print(f(p))"
   ]
  },
  {
   "cell_type": "markdown",
   "metadata": {},
   "source": [
    "##### Creating a Module"
   ]
  },
  {
   "cell_type": "code",
   "execution_count": 44,
   "metadata": {},
   "outputs": [
    {
     "name": "stdout",
     "output_type": "stream",
     "text": [
      "Hello Mr/Ms Anthony...we've been waiting for you!\n",
      "None\n"
     ]
    }
   ],
   "source": [
    "import module\n",
    "\n",
    "print(module.printName('Anthony'))"
   ]
  },
  {
   "cell_type": "markdown",
   "metadata": {},
   "source": [
    "# Exercises"
   ]
  },
  {
   "cell_type": "markdown",
   "metadata": {},
   "source": [
    "### 1) Build a Shopping Cart <br>\n",
    "<p><b>You can use either lists or dictionaries. The program should have the following capabilities:</b><br><br>\n",
    "1) Takes in input <br>\n",
    "2) Stores user input into a dictionary or list <br>\n",
    "3) The User can add or delete items <br>\n",
    "4) The User can see current shopping list <br>\n",
    "5) The program Loops until user 'quits' <br>\n",
    "6) Upon quiting the program, print out all items in the user's list <br>\n",
    "</p>"
   ]
  },
  {
   "cell_type": "code",
   "execution_count": 719,
   "metadata": {},
   "outputs": [
    {
     "ename": "TypeError",
     "evalue": "'ShoppingCart' object is not iterable",
     "output_type": "error",
     "traceback": [
      "\u001b[1;31m---------------------------------------------------------------------------\u001b[0m",
      "\u001b[1;31mTypeError\u001b[0m                                 Traceback (most recent call last)",
      "\u001b[1;32m<ipython-input-719-ebc4c4bd065a>\u001b[0m in \u001b[0;36m<module>\u001b[1;34m\u001b[0m\n\u001b[0;32m     10\u001b[0m \u001b[1;33m\u001b[0m\u001b[0m\n\u001b[0;32m     11\u001b[0m \u001b[1;33m\u001b[0m\u001b[0m\n\u001b[1;32m---> 12\u001b[1;33m \u001b[1;32mclass\u001b[0m \u001b[0mShoppingCart\u001b[0m\u001b[1;33m(\u001b[0m\u001b[1;33m)\u001b[0m\u001b[1;33m:\u001b[0m\u001b[1;33m\u001b[0m\u001b[1;33m\u001b[0m\u001b[0m\n\u001b[0m\u001b[0;32m     13\u001b[0m \u001b[1;33m\u001b[0m\u001b[0m\n\u001b[0;32m     14\u001b[0m     \u001b[0md_1\u001b[0m \u001b[1;33m=\u001b[0m \u001b[0mdict\u001b[0m\u001b[1;33m(\u001b[0m\u001b[0mbuilt_to_last\u001b[0m\u001b[1;33m)\u001b[0m\u001b[1;33m\u001b[0m\u001b[1;33m\u001b[0m\u001b[0m\n",
      "\u001b[1;32m<ipython-input-719-ebc4c4bd065a>\u001b[0m in \u001b[0;36mShoppingCart\u001b[1;34m()\u001b[0m\n\u001b[0;32m     12\u001b[0m \u001b[1;32mclass\u001b[0m \u001b[0mShoppingCart\u001b[0m\u001b[1;33m(\u001b[0m\u001b[1;33m)\u001b[0m\u001b[1;33m:\u001b[0m\u001b[1;33m\u001b[0m\u001b[1;33m\u001b[0m\u001b[0m\n\u001b[0;32m     13\u001b[0m \u001b[1;33m\u001b[0m\u001b[0m\n\u001b[1;32m---> 14\u001b[1;33m     \u001b[0md_1\u001b[0m \u001b[1;33m=\u001b[0m \u001b[0mdict\u001b[0m\u001b[1;33m(\u001b[0m\u001b[0mbuilt_to_last\u001b[0m\u001b[1;33m)\u001b[0m\u001b[1;33m\u001b[0m\u001b[1;33m\u001b[0m\u001b[0m\n\u001b[0m\u001b[0;32m     15\u001b[0m \u001b[1;33m\u001b[0m\u001b[0m\n\u001b[0;32m     16\u001b[0m     \u001b[0mbuilt_to_last\u001b[0m \u001b[1;33m=\u001b[0m \u001b[0mShoppingCart\u001b[0m\u001b[1;33m(\u001b[0m\u001b[1;33m{\u001b[0m\u001b[1;33m}\u001b[0m\u001b[1;33m,\u001b[0m\u001b[1;36m10\u001b[0m\u001b[1;33m,\u001b[0m\u001b[1;33m{\u001b[0m\u001b[1;33m}\u001b[0m\u001b[1;33m)\u001b[0m\u001b[1;33m\u001b[0m\u001b[1;33m\u001b[0m\u001b[0m\n",
      "\u001b[1;31mTypeError\u001b[0m: 'ShoppingCart' object is not iterable"
     ]
    }
   ],
   "source": [
    "from IPython.display import clear_output\n",
    "\n",
    "# Ask the user four bits of input: Do you want to : Show/Add/Delete or Quit?\n",
    "#methods are like functions\n",
    "#attributes are like variables\n",
    "\n",
    "#dictionary store and remove fix\n",
    "#fixuser add delete show quit throwing errors\n",
    "# This program currently only does steps #1 and #5 correct\n",
    "\n",
    "\n",
    "class ShoppingCart():\n",
    "    \n",
    "    d_1 = dict(built_to_last)\n",
    "    \n",
    "    built_to_last = ShoppingCart({},10,{})\n",
    "    ask = input('Do You Want to : Show/Add/Delete or Quit?')\n",
    "    \n",
    "    def __init__(self,items,handles,capacity):\n",
    "        self.items = items\n",
    "        self.handles = handles\n",
    "        self.capacity = capacity\n",
    "        \n",
    "        \n",
    "    def showShoppingCart(self):\n",
    "        print(self.items)\n",
    "        for item in items:\n",
    "            print(item)\n",
    "    \n",
    "    def showCapacity(self):\n",
    "        print(f\"Your Capacity is: {self.capacity}\")\n",
    "              \n",
    "    def addToShoppingCart(self):\n",
    "        products = input('What would you like to add?')\n",
    "        d_1.self.items.append(products)\n",
    "        \n",
    "    def removeFromCart(self):\n",
    "        d_1.products = input('What would you like to remove?')\n",
    "              \n",
    "    while True:\n",
    "        response =input('Do You Want To: Show/Add/Delete or Quit?')\n",
    "              \n",
    "        if response.lower() == 'show':\n",
    "            print(d_1.built_to_last.items)\n",
    "        \n",
    "        elif response.lower() == 'add':\n",
    "            d_1.built_to_last.items.append()\n",
    "        \n",
    "        elif response.lower() == 'delete':\n",
    "            d_1.built_to_last.items.remove()\n",
    "        \n",
    "        elif response.lower() == 'quit':\n",
    "            d_1.built_to_last.items.showShoppingCart()\n",
    "            print(\"Thanks For Shopping! Come Again!\")\n",
    "            break\n",
    "\n",
    "        \n",
    "        \n",
    "\n",
    "        \n",
    "        "
   ]
  },
  {
   "cell_type": "code",
   "execution_count": 674,
   "metadata": {},
   "outputs": [
    {
     "ename": "SyntaxError",
     "evalue": "'break' outside loop (<ipython-input-674-bebb8c2c4f6c>, line 18)",
     "output_type": "error",
     "traceback": [
      "\u001b[1;36m  File \u001b[1;32m\"<ipython-input-674-bebb8c2c4f6c>\"\u001b[1;36m, line \u001b[1;32m18\u001b[0m\n\u001b[1;33m    break\u001b[0m\n\u001b[1;37m    ^\u001b[0m\n\u001b[1;31mSyntaxError\u001b[0m\u001b[1;31m:\u001b[0m 'break' outside loop\n"
     ]
    }
   ],
   "source": [
    "built_to_last = ShoppingCart(2,10, [])\n",
    "\n",
    "      \n",
    "    while True:\n",
    "        response =input('Do You Want To: Show/Add/Delete or Quit?')\n",
    "              \n",
    "    if response.lower() == 'show':\n",
    "        print(self.items)\n",
    "        \n",
    "    elif response.lower() == 'add':\n",
    "        self.items.append()\n",
    "        \n",
    "    elif response.lower() == 'delete':\n",
    "        self.items.remove()\n",
    "        \n",
    "    elif response.lower() == 'quit':\n",
    "        print(\"Thanks For Shopping! Come Again!\")\n",
    "        break\n",
    "\n"
   ]
  },
  {
   "cell_type": "code",
   "execution_count": null,
   "metadata": {
    "scrolled": true
   },
   "outputs": [],
   "source": [
    "# See Above\n",
    "# create an instance of the ShoppingBag Class\n"
   ]
  },
  {
   "cell_type": "markdown",
   "metadata": {},
   "source": [
    "### 2) Create a Module in VS Code and Import It into jupyter notebook <br>\n",
    "<p><b>Module should have the following capabilities:</b><br><br>\n",
    "1) Has a function to calculate the square footage of a house <br>\n",
    "    <b>Reminder of Formula: Length X Width == Area<br>\n",
    "        <hr>\n",
    "2) Has a function to calculate the circumference of a circle <br><br>\n",
    "<b>Program in Jupyter Notebook should take in user input and use imported functions to calculate a circle's circumference or a houses square footage</b>\n",
    "</p>"
   ]
  },
  {
   "cell_type": "code",
   "execution_count": 724,
   "metadata": {},
   "outputs": [
    {
     "name": "stdout",
     "output_type": "stream",
     "text": [
      "10000000\n"
     ]
    }
   ],
   "source": [
    "import areafinder\n",
    "\n",
    "num1 = 2000\n",
    "num2 = 5000\n",
    "\n",
    "result = num1 * num2\n",
    "print(result)\n",
    "# from areafinder import num1 as n1, num2 as n2\n",
    "\n",
    "# print(n1(n2))"
   ]
  }
 ],
 "metadata": {
  "kernelspec": {
   "display_name": "Python 3",
   "language": "python",
   "name": "python3"
  }
 },
 "nbformat": 4,
 "nbformat_minor": 2
}
